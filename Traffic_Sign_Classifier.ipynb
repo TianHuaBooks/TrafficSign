{
 "cells": [
  {
   "cell_type": "markdown",
   "metadata": {},
   "source": [
    "# Self-Driving Car Engineer Nanodegree\n",
    "\n",
    "## Deep Learning\n",
    "\n",
    "## Project: Build a Traffic Sign Recognition Classifier\n",
    "\n",
    "In this notebook, a template is provided for you to implement your functionality in stages, which is required to successfully complete this project. If additional code is required that cannot be included in the notebook, be sure that the Python code is successfully imported and included in your submission if necessary. \n",
    "\n",
    "> **Note**: Once you have completed all of the code implementations, you need to finalize your work by exporting the iPython Notebook as an HTML document. Before exporting the notebook to html, all of the code cells need to have been run so that reviewers can see the final implementation and output. You can then export the notebook by using the menu above and navigating to  \\n\",\n",
    "    \"**File -> Download as -> HTML (.html)**. Include the finished document along with this notebook as your submission. \n",
    "\n",
    "In addition to implementing code, there is a writeup to complete. The writeup should be completed in a separate file, which can be either a markdown file or a pdf document. There is a [write up template](https://github.com/udacity/CarND-Traffic-Sign-Classifier-Project/blob/master/writeup_template.md) that can be used to guide the writing process. Completing the code template and writeup template will cover all of the [rubric points](https://review.udacity.com/#!/rubrics/481/view) for this project.\n",
    "\n",
    "The [rubric](https://review.udacity.com/#!/rubrics/481/view) contains \"Stand Out Suggestions\" for enhancing the project beyond the minimum requirements. The stand out suggestions are optional. If you decide to pursue the \"stand out suggestions\", you can include the code in this Ipython notebook and also discuss the results in the writeup file.\n",
    "\n",
    "\n",
    ">**Note:** Code and Markdown cells can be executed using the **Shift + Enter** keyboard shortcut. In addition, Markdown cells can be edited by typically double-clicking the cell to enter edit mode."
   ]
  },
  {
   "cell_type": "markdown",
   "metadata": {},
   "source": [
    "---\n",
    "## Step 0: Load The Data"
   ]
  },
  {
   "cell_type": "code",
   "execution_count": 1,
   "metadata": {
    "collapsed": false
   },
   "outputs": [
    {
     "name": "stdout",
     "output_type": "stream",
     "text": [
      "41\n",
      "X_test shape=(32, 32, 3), number of elements:32\n",
      "12630\n"
     ]
    }
   ],
   "source": [
    "# Load pickled data\n",
    "import pickle\n",
    "\n",
    "# TODO: Fill this in based on where you saved the training and testing data\n",
    "\n",
    "training_file = 'train.p'\n",
    "validation_file= 'valid.p'\n",
    "testing_file = 'test.p'\n",
    "\n",
    "with open(training_file, mode='rb') as f:\n",
    "    train = pickle.load(f)\n",
    "with open(validation_file, mode='rb') as f:\n",
    "    valid = pickle.load(f)\n",
    "with open(testing_file, mode='rb') as f:\n",
    "    test = pickle.load(f)\n",
    "    \n",
    "X_train, y_train = train['features'], train['labels']\n",
    "X_valid, y_valid = valid['features'], valid['labels']\n",
    "X_test, y_test = test['features'], test['labels']\n",
    "print(y_train[0])\n",
    "print(\"X_test shape={}, number of elements:{}\".format(X_test[0].shape, len(X_test[0])))\n",
    "print(len(y_test))"
   ]
  },
  {
   "cell_type": "markdown",
   "metadata": {},
   "source": [
    "---\n",
    "\n",
    "## Step 1: Dataset Summary & Exploration\n",
    "\n",
    "The pickled data is a dictionary with 4 key/value pairs:\n",
    "\n",
    "- `'features'` is a 4D array containing raw pixel data of the traffic sign images, (num examples, width, height, channels).\n",
    "- `'labels'` is a 1D array containing the label/class id of the traffic sign. The file `signnames.csv` contains id -> name mappings for each id.\n",
    "- `'sizes'` is a list containing tuples, (width, height) representing the the original width and height the image.\n",
    "- `'coords'` is a list containing tuples, (x1, y1, x2, y2) representing coordinates of a bounding box around the sign in the image. **THESE COORDINATES ASSUME THE ORIGINAL IMAGE. THE PICKLED DATA CONTAINS RESIZED VERSIONS (32 by 32) OF THESE IMAGES**\n",
    "\n",
    "Complete the basic data summary below. Use python, numpy and/or pandas methods to calculate the data summary rather than hard coding the results. For example, the [pandas shape method](http://pandas.pydata.org/pandas-docs/stable/generated/pandas.DataFrame.shape.html) might be useful for calculating some of the summary results. "
   ]
  },
  {
   "cell_type": "markdown",
   "metadata": {},
   "source": [
    "### Provide a Basic Summary of the Data Set Using Python, Numpy and/or Pandas"
   ]
  },
  {
   "cell_type": "code",
   "execution_count": 21,
   "metadata": {
    "collapsed": false
   },
   "outputs": [
    {
     "name": "stdout",
     "output_type": "stream",
     "text": [
      "Number of training examples = 34799\n",
      "Number of testing examples = 12630\n",
      "Image data shape = (32, 32, 3)\n",
      "Number of classes = 43\n",
      "Mean:809.2790697674419, sigma:619.4201837045108, 28:480, 40:300, 2:2010, 38:1860, 1:1980\n"
     ]
    },
    {
     "data": {
      "image/png": "[encoded data removed]",
      "text/plain": [
       "<matplotlib.figure.Figure at 0x7f69e43cfa58>"
      ]
     },
     "metadata": {},
     "output_type": "display_data"
    }
   ],
   "source": [
    "### Replace each question mark with the appropriate value. \n",
    "### Use python, pandas or numpy methods rather than hard coding the results\n",
    "import matplotlib.pyplot as plt\n",
    "# Visualizations will be shown in the notebook.\n",
    "%matplotlib inline\n",
    "import random\n",
    "import cv2\n",
    "\n",
    "# TODO: Number of training examples\n",
    "n_train = len(X_train)\n",
    "\n",
    "# TODO: Number of testing examples.\n",
    "n_test = len(X_test)\n",
    "\n",
    "# TODO: What's the shape of an traffic sign image?\n",
    "image_shape = X_train[0].shape\n",
    "\n",
    "# TODO: How many unique classes/labels there are in the dataset.\n",
    "class_set = set(y_train)\n",
    "n_classes = len(class_set)\n",
    "\n",
    "print(\"Number of training examples =\", n_train)\n",
    "print(\"Number of testing examples =\", n_test)\n",
    "print(\"Image data shape =\", image_shape)\n",
    "print(\"Number of classes =\", n_classes)\n",
    "\n",
    "def calc_class_dist(y):\n",
    "    from collections import Counter\n",
    "    count_train = Counter(y)\n",
    "    list_y = []\n",
    "    for i in range(n_classes):\n",
    "        list_y.append(count_train[i])\n",
    "    # Plot class distribution\n",
    "    width = 1/1.5\n",
    "    plt.bar(range(n_classes), list_y, width, color=\"blue\")\n",
    "    mean_train = np.mean(list_y)\n",
    "    sigma_train = np.std(list_y)\n",
    "    print(\"Mean:{}, sigma:{}, 28:{}, 40:{}, 2:{}, 38:{}, 1:{}\".format(mean_train, sigma_train, count_train[28], count_train[40], count_train[2], count_train[38], count_train[1]))\n",
    "    #28,40,2,38,1\n",
    "    return mean_train, count_train, sigma_train\n",
    "\n",
    "mean_train, count_train, sigma_train = calc_class_dist(y_train)"
   ]
  },
  {
   "cell_type": "markdown",
   "metadata": {},
   "source": [
    "### Include an exploratory visualization of the dataset"
   ]
  },
  {
   "cell_type": "markdown",
   "metadata": {},
   "source": [
    "Visualize the German Traffic Signs Dataset using the pickled file(s). This is open ended, suggestions include: plotting traffic sign images, plotting the count of each sign, etc.\n",
    "\n",
    "The [Matplotlib](http://matplotlib.org/) [examples](http://matplotlib.org/examples/index.html) and [gallery](http://matplotlib.org/gallery.html) pages are a great resource for doing visualizations in Python.\n",
    "\n",
    "**NOTE:** It's recommended you start with something simple first. If you wish to do more, come back to it after you've completed the rest of the sections."
   ]
  },
  {
   "cell_type": "code",
   "execution_count": 36,
   "metadata": {
    "collapsed": false
   },
   "outputs": [
    {
     "name": "stdout",
     "output_type": "stream",
     "text": [
      "Image 33431, ClassId:2\n",
      "Image 2472, ClassId:1\n",
      "Image 34706, ClassId:25\n",
      "Image 15280, ClassId:38\n",
      "Image 11978, ClassId:9\n",
      "Image 27282, ClassId:28\n",
      "Image 10060, ClassId:0\n",
      "Image 4222, ClassId:40\n"
     ]
    },
    {
     "data": {
      "image/png": "[encoded data removed]",
      "text/plain": [
       "<matplotlib.figure.Figure at 0x7f69ccbe6898>"
      ]
     },
     "metadata": {},
     "output_type": "display_data"
    },
    {
     "data": {
      "image/png": "[encoded data removed]",
      "text/plain": [
       "<matplotlib.figure.Figure at 0x7f69cc84c828>"
      ]
     },
     "metadata": {},
     "output_type": "display_data"
    },
    {
     "data": {
      "image/png": "[encoded data removed]",
      "text/plain": [
       "<matplotlib.figure.Figure at 0x7f69cc817cf8>"
      ]
     },
     "metadata": {},
     "output_type": "display_data"
    },
    {
     "data": {
      "image/png": "[encoded data removed]",
      "text/plain": [
       "<matplotlib.figure.Figure at 0x7f69cc7db208>"
      ]
     },
     "metadata": {},
     "output_type": "display_data"
    },
    {
     "data": {
      "image/png": "[encoded data removed]",
      "text/plain": [
       "<matplotlib.figure.Figure at 0x7f69cc7a95c0>"
      ]
     },
     "metadata": {},
     "output_type": "display_data"
    },
    {
     "data": {
      "image/png": "[encoded data removed]",
      "text/plain": [
       "<matplotlib.figure.Figure at 0x7f69cc773860>"
      ]
     },
     "metadata": {},
     "output_type": "display_data"
    },
    {
     "data": {
      "image/png": "[encoded data removed]",
      "text/plain": [
       "<matplotlib.figure.Figure at 0x7f69cc682978>"
      ]
     },
     "metadata": {},
     "output_type": "display_data"
    },
    {
     "data": {
      "image/png": "[encoded data removed]",
      "text/plain": [
       "<matplotlib.figure.Figure at 0x7f69cc64d5f8>"
      ]
     },
     "metadata": {},
     "output_type": "display_data"
    }
   ],
   "source": [
    "### Data exploration visualization code goes here.\n",
    "### Feel free to use as many code cells as needed.\n",
    "import matplotlib.pyplot as plt\n",
    "# Visualizations will be shown in the notebook.\n",
    "%matplotlib inline\n",
    "import random\n",
    "\n",
    "\n",
    "# print some training images\n",
    "list = [42,0,16,9,25,28,40,2,38,1]\n",
    "for idx in range(200):\n",
    "    i = random.randint(0, n_train)\n",
    "    if (y_train[i] in list):\n",
    "        list.remove(y_train[i])\n",
    "    else:\n",
    "        continue\n",
    "    print(\"Image {}, ClassId:{}\".format(i, y_train[i]))\n",
    "    image = X_train[i].squeeze()\n",
    "    plt.figure(figsize=(1,1))\n",
    "    plt.imshow(image)\n",
    "    name = 'data/img_' + str(i) + '_id_' + str(y_train[i]) + '.jpg'\n",
    "    cv2.imwrite(name, image)"
   ]
  },
  {
   "cell_type": "markdown",
   "metadata": {},
   "source": [
    "----\n",
    "\n",
    "## Step 2: Design and Test a Model Architecture\n",
    "\n",
    "Design and implement a deep learning model that learns to recognize traffic signs. Train and test your model on the [German Traffic Sign Dataset](http://benchmark.ini.rub.de/?section=gtsrb&subsection=dataset).\n",
    "\n",
    "There are various aspects to consider when thinking about this problem:\n",
    "\n",
    "- Neural network architecture\n",
    "- Play around preprocessing techniques (normalization, rgb to grayscale, etc)\n",
    "- Number of examples per label (some have more than others).\n",
    "- Generate fake data.\n",
    "\n",
    "Here is an example of a [published baseline model on this problem](http://yann.lecun.com/exdb/publis/pdf/sermanet-ijcnn-11.pdf). It's not required to be familiar with the approach used in the paper but, it's good practice to try to read papers like these.\n",
    "\n",
    "**NOTE:** The LeNet-5 implementation shown in the [classroom](https://classroom.udacity.com/nanodegrees/nd013/parts/fbf77062-5703-404e-b60c-95b78b2f3f9e/modules/6df7ae49-c61c-4bb2-a23e-6527e69209ec/lessons/601ae704-1035-4287-8b11-e2c2716217ad/concepts/d4aca031-508f-4e0b-b493-e7b706120f81) at the end of the CNN lesson is a solid starting point. You'll have to change the number of classes and possibly the preprocessing, but aside from that it's plug and play!"
   ]
  },
  {
   "cell_type": "markdown",
   "metadata": {},
   "source": [
    "### Pre-process the Data Set (normalization, grayscale, etc.)"
   ]
  },
  {
   "cell_type": "markdown",
   "metadata": {},
   "source": [
    "Use the code cell (or multiple code cells, if necessary) to implement the first step of your project."
   ]
  },
  {
   "cell_type": "code",
   "execution_count": 23,
   "metadata": {
    "collapsed": false
   },
   "outputs": [
    {
     "name": "stdout",
     "output_type": "stream",
     "text": [
      "Extended train X_train2 #: 59788\n",
      "0\n",
      "0\n",
      "0\n",
      "0\n",
      "0\n",
      "X shape:(32, 32, 1), y:26\n",
      "X shape:(32, 32, 1), y:26\n",
      "X shape:(32, 32, 1), y:26\n",
      "X shape:(32, 32, 1), y:26\n",
      "X shape:(32, 32, 1), y:26\n",
      "Mean:4536.046511627907, sigma:3299.7940031088224, 28:2400, 40:4200, 2:4020, 38:4260, 1:7920\n"
     ]
    },
    {
     "data": {
      "image/png": "[encoded data removed]",
      "text/plain": [
       "<matplotlib.figure.Figure at 0x7f6a3ea85438>"
      ]
     },
     "metadata": {},
     "output_type": "display_data"
    },
    {
     "data": {
      "image/png": "[encoded data removed]",
      "text/plain": [
       "<matplotlib.figure.Figure at 0x7f69e7625b70>"
      ]
     },
     "metadata": {},
     "output_type": "display_data"
    },
    {
     "data": {
      "image/png": "[encoded data removed]",
      "text/plain": [
       "<matplotlib.figure.Figure at 0x7f69e4199320>"
      ]
     },
     "metadata": {},
     "output_type": "display_data"
    },
    {
     "data": {
      "image/png": "[encoded data removed]",
      "text/plain": [
       "<matplotlib.figure.Figure at 0x7f69e68f1be0>"
      ]
     },
     "metadata": {},
     "output_type": "display_data"
    },
    {
     "data": {
      "image/png": "[encoded data removed]",
      "text/plain": [
       "<matplotlib.figure.Figure at 0x7f6a3eb86b00>"
      ]
     },
     "metadata": {},
     "output_type": "display_data"
    },
    {
     "data": {
      "image/png": "[encoded data removed]",
      "text/plain": [
       "<matplotlib.figure.Figure at 0x7f6a3ead2438>"
      ]
     },
     "metadata": {},
     "output_type": "display_data"
    },
    {
     "data": {
      "image/png": "[encoded data removed]",
      "text/plain": [
       "<matplotlib.figure.Figure at 0x7f6a3ebc9828>"
      ]
     },
     "metadata": {},
     "output_type": "display_data"
    },
    {
     "data": {
      "image/png": "[encoded data removed]",
      "text/plain": [
       "<matplotlib.figure.Figure at 0x7f6a3ead2128>"
      ]
     },
     "metadata": {},
     "output_type": "display_data"
    },
    {
     "data": {
      "image/png": "[encoded data removed]",
      "text/plain": [
       "<matplotlib.figure.Figure at 0x7f6a3ebc9c18>"
      ]
     },
     "metadata": {},
     "output_type": "display_data"
    },
    {
     "data": {
      "image/png": "[encoded data removed]",
      "text/plain": [
       "<matplotlib.figure.Figure at 0x7f6a3ea4dc18>"
      ]
     },
     "metadata": {},
     "output_type": "display_data"
    },
    {
     "data": {
      "image/png": "[encoded data removed]",
      "text/plain": [
       "<matplotlib.figure.Figure at 0x7f6a4927f898>"
      ]
     },
     "metadata": {},
     "output_type": "display_data"
    }
   ],
   "source": [
    "### Preprocess the data here. Preprocessing steps could include normalization, converting to grayscale, etc.\n",
    "### Feel free to use as many code cells as needed.\n",
    "from sklearn.utils import shuffle\n",
    "import numpy as np\n",
    "from skimage import exposure\n",
    "from skimage.transform import rotate\n",
    "from skimage.transform import warp\n",
    "from skimage.transform import ProjectiveTransform\n",
    "import cv2\n",
    "\n",
    "def preprocess_dataset(X, y):\n",
    "    # convert to grayscale\n",
    "    #X = 0.299 * X[:,:,:,0] + 0.587 * X[:,:,:,1] + 0.114 * X[:,:,:,2]\n",
    "    # normalize\n",
    "    #X = (X / 255.0).astype(np.float32)\n",
    "    grayX = []\n",
    "    n = len(X)\n",
    "    for i in range(n):\n",
    "        #print(\"i:{}, shape:{}\".format(i, X[i].shape))\n",
    "        grayX.append(cv2.cvtColor(X[i], cv2.COLOR_RGB2GRAY))\n",
    "    # localized histogram localization\n",
    "    #for i in range(X.shape[0]):\n",
    "    #    X[i] = exposure.equalize_adapthist(X[i])\n",
    "    # convert y to one-hot encoding\n",
    "    #y = np.eye(n_classes)[y]\n",
    "    # add a single grayscale channel\n",
    "    #print(\"grayX shape:{}\", grayX[0].shape)\n",
    "    grayX = np.reshape(grayX, (-1,32,32,1))\n",
    "    return grayX, y\n",
    "\n",
    "def flip_extend(X, y):\n",
    "    # Classes of signs that, when flipped horizontally, should still be classified as the same class\n",
    "    self_flippable_horizontally = np.array([11, 12, 13, 15, 17, 18, 22, 26, 30, 35])\n",
    "    # Classes of signs that, when flipped vertically, should still be classified as the same class\n",
    "    self_flippable_vertically = np.array([1, 5, 12, 15, 17])\n",
    "    # Classes of signs that, when flipped horizontally and then vertically, should still be classified as the same class\n",
    "    self_flippable_both = np.array([32, 40])\n",
    "    # Classes of signs that, when flipped horizontally, would still be meaningful, but should be classified as some other class\n",
    "    cross_flippable = np.array([\n",
    "        [19, 20], \n",
    "        [33, 34], \n",
    "        [36, 37], \n",
    "        [38, 39],\n",
    "        [20, 19], \n",
    "        [34, 33], \n",
    "        [37, 36], \n",
    "        [39, 38],   \n",
    "    ])\n",
    "    X_extended = np.empty([0, X.shape[1], X.shape[2], X.shape[3]], dtype = X.dtype)\n",
    "    y_extended = np.empty([0], dtype = y.dtype)\n",
    "    \n",
    "    for c in range(n_classes):\n",
    "        # First copy existing data for this class\n",
    "        X_extended = np.append(X_extended, X[y == c], axis = 0)\n",
    "        # If we can flip images of this class horizontally and they would still belong to said class...\n",
    "        if c in self_flippable_horizontally:\n",
    "            # ...Copy their flipped versions into extended array.\n",
    "            X_extended = np.append(X_extended, X[y == c][:, :, ::-1, :], axis = 0)\n",
    "        # If we can flip images of this class horizontally and they would belong to other class...\n",
    "        if c in cross_flippable[:, 0]:\n",
    "            # ...Copy flipped images of that other class to the extended array.\n",
    "            flip_class = cross_flippable[cross_flippable[:, 0] == c][0][1]\n",
    "            X_extended = np.append(X_extended, X[y == flip_class][:, :, ::-1, :], axis = 0)\n",
    "        # Fill labels for added images set to current class.\n",
    "        y_extended = np.append(y_extended, np.full((X_extended.shape[0] - y_extended.shape[0]), c, dtype = int))\n",
    "        \n",
    "        # If we can flip images of this class vertically and they would still belong to said class...\n",
    "        if c in self_flippable_vertically:\n",
    "            # ...Copy their flipped versions into extended array.\n",
    "            X_extended = np.append(X_extended, X_extended[y_extended == c][:, ::-1, :, :], axis = 0)\n",
    "        # Fill labels for added images set to current class.\n",
    "        y_extended = np.append(y_extended, np.full((X_extended.shape[0] - y_extended.shape[0]), c, dtype = int))\n",
    "        \n",
    "        # If we can flip images of this class horizontally AND vertically and they would still belong to said class...\n",
    "        if c in self_flippable_both:\n",
    "            # ...Copy their flipped versions into extended array.\n",
    "            X_extended = np.append(X_extended, X_extended[y_extended == c][:, ::-1, ::-1, :], axis = 0)\n",
    "        # Fill labels for added images set to current class.\n",
    "        y_extended = np.append(y_extended, np.full((X_extended.shape[0] - y_extended.shape[0]), c, dtype = int))\n",
    "    \n",
    "    return (X_extended, y_extended)\n",
    "\n",
    "def rotate_img(X, y, intensity):\n",
    "    result_x = []\n",
    "    result_y = []\n",
    "    sz = len(X)\n",
    "    mean1 = sigma_train + mean_train\n",
    "    mean2 = sigma_train + mean1\n",
    "    debugFlag = 1\n",
    "    for i in range(sz):\n",
    "        id = y[i]\n",
    "        # To make each class balanced, making more for class with less samples\n",
    "        n = 1\n",
    "        if (count_train[id] < mean1):\n",
    "            n = int((mean2 - count_train[id]) / count_train[id]) + 1\n",
    "        delta = 30. * intensity # scale using augmentation intensity\n",
    "        for j in range(n):   \n",
    "            x = random.uniform(-delta, delta)\n",
    "            r_img = rotate(X[i], x)\n",
    "            if n > 1 and debugFlag:\n",
    "                print(\"j/n:{}/{}\".format(j,n))\n",
    "                plt.figure(figsize=(1,1))\n",
    "                plt.imshow(r_img.squeeze())\n",
    "                debugFlag = 0\n",
    "            result_x.append(r_img)\n",
    "            result_y.append(id)\n",
    "    return result_x, result_y  \n",
    "\n",
    "X_train2, y_train2 = flip_extend(X_train, y_train)\n",
    "print(\"Extended train X_train2 #: {}\".format(len(X_train2))) \n",
    "#tmp = np.array([X_train2[0], X_train2[1], X_train2[2], X_train2[3], X_train2[4], X_train2[5], X_train2[6]])\n",
    "\n",
    "#print(\"Project X_train2 #: {}\".format(len(X_train2)))  \n",
    "#X_rotate2, y_rotate = preprocess_dataset(X_rotate, y_train2)\n",
    "\n",
    "X_train2, y_train2 = preprocess_dataset(X_train2, y_train2)\n",
    "rotate_clone = X_train2.copy()\n",
    "X_rotate, y_rotate = rotate_img(rotate_clone, y_train2, 0.75)\n",
    "X_train2 = np.concatenate((X_train2, X_rotate), axis=0)\n",
    "y_train2 = np.concatenate((y_train2, y_rotate), axis=0)\n",
    "\n",
    "X_valid2, y_valid2 = preprocess_dataset(X_valid, y_valid)\n",
    "X_test2, y_test2 = preprocess_dataset(X_test, y_test)\n",
    "\n",
    "for i in range(5):\n",
    "    print(\"i:{}, y:{}\".format(i,y_train2[i]))\n",
    "    plt.figure(figsize=(1,1))\n",
    "    plt.imshow(X_train2[i].squeeze(), cmap=\"gray\")\n",
    "\n",
    "    \n",
    "last = len(X_rotate) - 1    \n",
    "for i in range(last, last-5, -1):\n",
    "    print(\"i:{}, y:{}\".format(i,y_train2[i]))\n",
    "    plt.figure(figsize=(1,1))\n",
    "    plt.imshow(X_train2[i].squeeze(), cmap=\"gray\")\n",
    "    \n",
    "mean_train2, count_train2, sigma_train2 = calc_class_dist(y_train2)\n",
    "    \n",
    "# shuffle train data\n",
    "X_train2, y_train2 = shuffle(X_train2, y_train2)"
   ]
  },
  {
   "cell_type": "markdown",
   "metadata": {},
   "source": [
    "### Model Architecture"
   ]
  },
  {
   "cell_type": "code",
   "execution_count": 24,
   "metadata": {
    "collapsed": true
   },
   "outputs": [],
   "source": [
    "### Define your architecture here.\n",
    "### Feel free to use as many code cells as needed.\n",
    "from tensorflow.contrib.layers import flatten\n",
    "\n",
    "EPOCHS = 60\n",
    "BATCH_SIZE = 128\n",
    "\n",
    "def LeNet(x):\n",
    "    mu = 0.0\n",
    "    sigma = 0.1\n",
    "    \n",
    "    #layer 1: Convolutional. Input = 32x32x1. Output = 28x28x6.\n",
    "    conv1_W = tf.Variable(tf.truncated_normal(shape=(5, 5, 1, 6), mean = mu, stddev = sigma))\n",
    "    conv1_b = tf.Variable(tf.zeros(6))\n",
    "    conv1   = tf.nn.conv2d(x, conv1_W, strides=[1, 1, 1, 1], padding='VALID') + conv1_b\n",
    "\n",
    "    # SOLUTION: Activation.\n",
    "    conv1 = tf.nn.relu(conv1)\n",
    "\n",
    "    # SOLUTION: Pooling. Input = 28x28x6. Output = 14x14x6.\n",
    "    conv1 = tf.nn.max_pool(conv1, ksize=[1, 2, 2, 1], strides=[1, 2, 2, 1], padding='VALID')\n",
    "\n",
    "    # SOLUTION: Layer 2: Convolutional. Output = 10x10x16.\n",
    "    conv2_W = tf.Variable(tf.truncated_normal(shape=(5, 5, 6, 16), mean = mu, stddev = sigma))\n",
    "    conv2_b = tf.Variable(tf.zeros(16))\n",
    "    conv2   = tf.nn.conv2d(conv1, conv2_W, strides=[1, 1, 1, 1], padding='VALID') + conv2_b\n",
    "    \n",
    "    # SOLUTION: Activation.\n",
    "    conv2 = tf.nn.relu(conv2)\n",
    "\n",
    "    # SOLUTION: Pooling. Input = 10x10x16. Output = 5x5x16.\n",
    "    conv2 = tf.nn.max_pool(conv2, ksize=[1, 2, 2, 1], strides=[1, 2, 2, 1], padding='VALID')\n",
    "\n",
    "    # SOLUTION: Flatten. Input = 5x5x16. Output = 400.\n",
    "    fc0   = flatten(conv2)\n",
    "    \n",
    "     # SOLUTION: Layer 3: Fully Connected. Input = 400. Output = 120.\n",
    "    fc1_W = tf.Variable(tf.truncated_normal(shape=(400, 120), mean = mu, stddev = sigma))\n",
    "    fc1_b = tf.Variable(tf.zeros(120))\n",
    "    fc1   = tf.matmul(fc0, fc1_W) + fc1_b\n",
    "    \n",
    "    # SOLUTION: Activation.\n",
    "    fc1    = tf.nn.relu(fc1)\n",
    "\n",
    "    # SOLUTION: Layer 4: Fully Connected. Input = 120. Output = 84.\n",
    "    fc2_W  = tf.Variable(tf.truncated_normal(shape=(120, 84), mean = mu, stddev = sigma))\n",
    "    fc2_b  = tf.Variable(tf.zeros(84))\n",
    "    fc2    = tf.matmul(fc1, fc2_W) + fc2_b\n",
    "    \n",
    "    # SOLUTION: Activation.\n",
    "    fc2    = tf.nn.relu(fc2)\n",
    "\n",
    "    # SOLUTION: Layer 5: Fully Connected. Input = 84. Output = nclass.\n",
    "    fc3_W  = tf.Variable(tf.truncated_normal(shape=(84, n_classes), mean = mu, stddev = sigma))\n",
    "    fc3_b  = tf.Variable(tf.zeros(n_classes))\n",
    "    logits = tf.matmul(fc2, fc3_W) + fc3_b\n",
    "    \n",
    "    return logits"
   ]
  },
  {
   "cell_type": "markdown",
   "metadata": {},
   "source": [
    "### Train, Validate and Test the Model"
   ]
  },
  {
   "cell_type": "markdown",
   "metadata": {},
   "source": [
    "A validation set can be used to assess how well the model is performing. A low accuracy on the training and validation\n",
    "sets imply underfitting. A high accuracy on the training set but low accuracy on the validation set implies overfitting."
   ]
  },
  {
   "cell_type": "code",
   "execution_count": 28,
   "metadata": {
    "collapsed": false,
    "scrolled": false
   },
   "outputs": [
    {
     "name": "stdout",
     "output_type": "stream",
     "text": [
      "Training...\n",
      "# of X_train2:195050\n",
      "# of y_train2:195050\n",
      "EPOCH 1 ...\n",
      "Validation Accuracy = 0.703\n",
      "\n",
      "EPOCH 2 ...\n",
      "Validation Accuracy = 0.770\n",
      "\n",
      "EPOCH 3 ...\n",
      "Validation Accuracy = 0.813\n",
      "\n",
      "EPOCH 4 ...\n",
      "Validation Accuracy = 0.829\n",
      "\n",
      "EPOCH 5 ...\n",
      "Validation Accuracy = 0.853\n",
      "\n",
      "EPOCH 6 ...\n",
      "Validation Accuracy = 0.851\n",
      "\n",
      "EPOCH 7 ...\n",
      "Validation Accuracy = 0.853\n",
      "\n",
      "EPOCH 8 ...\n",
      "Validation Accuracy = 0.873\n",
      "\n",
      "EPOCH 9 ...\n",
      "Validation Accuracy = 0.895\n",
      "\n",
      "EPOCH 10 ...\n",
      "Validation Accuracy = 0.877\n",
      "\n",
      "EPOCH 11 ...\n",
      "Validation Accuracy = 0.884\n",
      "\n",
      "EPOCH 12 ...\n",
      "Validation Accuracy = 0.881\n",
      "\n",
      "EPOCH 13 ...\n",
      "Validation Accuracy = 0.898\n",
      "\n",
      "EPOCH 14 ...\n",
      "Validation Accuracy = 0.893\n",
      "\n",
      "EPOCH 15 ...\n",
      "Validation Accuracy = 0.901\n",
      "\n",
      "EPOCH 16 ...\n",
      "Validation Accuracy = 0.902\n",
      "\n",
      "EPOCH 17 ...\n",
      "Validation Accuracy = 0.901\n",
      "\n",
      "EPOCH 18 ...\n",
      "Validation Accuracy = 0.887\n",
      "\n",
      "EPOCH 19 ...\n",
      "Validation Accuracy = 0.888\n",
      "\n",
      "EPOCH 20 ...\n",
      "Validation Accuracy = 0.911\n",
      "\n",
      "EPOCH 21 ...\n",
      "Validation Accuracy = 0.900\n",
      "\n",
      "EPOCH 22 ...\n",
      "Validation Accuracy = 0.889\n",
      "\n",
      "EPOCH 23 ...\n",
      "Validation Accuracy = 0.912\n",
      "\n",
      "EPOCH 24 ...\n",
      "Validation Accuracy = 0.914\n",
      "\n",
      "EPOCH 25 ...\n",
      "Validation Accuracy = 0.893\n",
      "\n",
      "EPOCH 26 ...\n",
      "Validation Accuracy = 0.915\n",
      "\n",
      "EPOCH 27 ...\n",
      "Validation Accuracy = 0.903\n",
      "\n",
      "EPOCH 28 ...\n",
      "Validation Accuracy = 0.900\n",
      "\n",
      "EPOCH 29 ...\n",
      "Validation Accuracy = 0.912\n",
      "\n",
      "EPOCH 30 ...\n",
      "Validation Accuracy = 0.908\n",
      "\n",
      "EPOCH 31 ...\n",
      "Validation Accuracy = 0.902\n",
      "\n",
      "EPOCH 32 ...\n",
      "Validation Accuracy = 0.907\n",
      "\n",
      "EPOCH 33 ...\n",
      "Validation Accuracy = 0.912\n",
      "\n",
      "EPOCH 34 ...\n",
      "Validation Accuracy = 0.902\n",
      "\n",
      "EPOCH 35 ...\n",
      "Validation Accuracy = 0.922\n",
      "\n",
      "EPOCH 36 ...\n",
      "Validation Accuracy = 0.907\n",
      "\n",
      "EPOCH 37 ...\n",
      "Validation Accuracy = 0.906\n",
      "\n",
      "EPOCH 38 ...\n",
      "Validation Accuracy = 0.913\n",
      "\n",
      "EPOCH 39 ...\n",
      "Validation Accuracy = 0.924\n",
      "\n",
      "EPOCH 40 ...\n",
      "Validation Accuracy = 0.926\n",
      "\n",
      "EPOCH 41 ...\n",
      "Validation Accuracy = 0.927\n",
      "\n",
      "EPOCH 42 ...\n",
      "Validation Accuracy = 0.919\n",
      "\n",
      "EPOCH 43 ...\n",
      "Validation Accuracy = 0.904\n",
      "\n",
      "EPOCH 44 ...\n",
      "Validation Accuracy = 0.921\n",
      "\n",
      "EPOCH 45 ...\n",
      "Validation Accuracy = 0.917\n",
      "\n",
      "EPOCH 46 ...\n",
      "Validation Accuracy = 0.921\n",
      "\n",
      "EPOCH 47 ...\n",
      "Validation Accuracy = 0.925\n",
      "\n",
      "EPOCH 48 ...\n",
      "Validation Accuracy = 0.923\n",
      "\n",
      "EPOCH 49 ...\n",
      "Validation Accuracy = 0.926\n",
      "\n",
      "EPOCH 50 ...\n",
      "Validation Accuracy = 0.928\n",
      "\n",
      "EPOCH 51 ...\n",
      "Validation Accuracy = 0.924\n",
      "\n",
      "EPOCH 52 ...\n",
      "Validation Accuracy = 0.916\n",
      "\n",
      "EPOCH 53 ...\n",
      "Validation Accuracy = 0.925\n",
      "\n",
      "EPOCH 54 ...\n",
      "Validation Accuracy = 0.917\n",
      "\n",
      "EPOCH 55 ...\n",
      "Validation Accuracy = 0.906\n",
      "\n",
      "EPOCH 56 ...\n",
      "Validation Accuracy = 0.916\n",
      "\n",
      "EPOCH 57 ...\n",
      "Validation Accuracy = 0.913\n",
      "\n",
      "EPOCH 58 ...\n",
      "Validation Accuracy = 0.920\n",
      "\n",
      "EPOCH 59 ...\n",
      "Validation Accuracy = 0.916\n",
      "\n",
      "EPOCH 60 ...\n",
      "Validation Accuracy = 0.912\n",
      "\n",
      "Model saved\n",
      "Test Accuracy = 0.917\n"
     ]
    }
   ],
   "source": [
    "### Train your model here.\n",
    "### Calculate and report the accuracy on the training and validation set.\n",
    "### Once a final model architecture is selected, \n",
    "### the accuracy on the test set should be calculated and reported as well.\n",
    "### Feel free to use as many code cells as needed.\n",
    "import tensorflow as tf\n",
    "\n",
    "x = tf.placeholder(tf.float32, (None, 32, 32, 1))\n",
    "y = tf.placeholder(tf.int32, (None))\n",
    "one_hot_y = tf.one_hot(y, n_classes)\n",
    "\n",
    "#n = tf.placeholder(tf.int32, (None))\n",
    "\n",
    "#training ratenum_examples\n",
    "rate = 0.0005\n",
    "\n",
    "#training pipeline\n",
    "logits = LeNet(x)\n",
    "cross_entropy = tf.nn.softmax_cross_entropy_with_logits(logits, one_hot_y)\n",
    "loss_operation = tf.reduce_mean(cross_entropy)\n",
    "#tf.Print(tf.argmax(logits, 1))\n",
    "#tf.Print(tf.argmax(tf.argmax(one_hot_y, 1)))\n",
    "correct_prediction = tf.equal(tf.argmax(logits, 1), tf.argmax(one_hot_y, 1))\n",
    "accuracy_operation = tf.reduce_mean(tf.cast(correct_prediction, tf.float32))\n",
    "saver = tf.train.Saver()\n",
    "\n",
    "def evaluate(X_data, y_data):\n",
    "    num_examples = len(X_data)\n",
    "    total_accuracy = 0\n",
    "    sess = tf.get_default_session()\n",
    "    for offset in range(0, num_examples, BATCH_SIZE):\n",
    "        batch_x, batch_y = X_data[offset:offset+BATCH_SIZE], y_data[offset:offset+BATCH_SIZE]\n",
    "        accuracy = sess.run(accuracy_operation, feed_dict={x: batch_x, y: batch_y})\n",
    "        total_accuracy += (accuracy * len(batch_x))\n",
    "    return total_accuracy / num_examples\n",
    "\n",
    "optimizer = tf.train.AdamOptimizer(learning_rate = rate)\n",
    "training_operation = optimizer.minimize(loss_operation)\n",
    "\n",
    "#Train the model\n",
    "with tf.Session() as sess:\n",
    "    sess.run(tf.global_variables_initializer())\n",
    "    num_examples = len(X_train2)\n",
    "    \n",
    "    print(\"Training...\")\n",
    "    print(\"# of X_train2:{}\".format(len(X_train2)))\n",
    "    print(\"# of y_train2:{}\".format(len(y_train2)))\n",
    "    for i in range(EPOCHS):\n",
    "        X_train2, y_train2 = shuffle(X_train2, y_train2)\n",
    "        for offset in range(0, num_examples, BATCH_SIZE):\n",
    "            end = offset + BATCH_SIZE\n",
    "            batch_x, batch_y = X_train2[offset:end], y_train2[offset:end]\n",
    "            #print(\"batch_y shape:{}\".format(batch_x[0].shape))\n",
    "            #print(\"batch_y shape:{}\".format(batch_y[0].shape))\n",
    "            sess.run(training_operation, feed_dict={x: batch_x, y: batch_y})\n",
    "            \n",
    "        validation_accuracy = evaluate(X_valid2, y_valid2)\n",
    "        print(\"EPOCH {} ...\".format(i+1))\n",
    "        print(\"Validation Accuracy = {:.3f}\".format(validation_accuracy))\n",
    "        print()\n",
    "        \n",
    "    saver.save(sess, './traffic_sign2')\n",
    "    print(\"Model saved\")\n",
    "\n",
    "#test the model\n",
    "with tf.Session() as sess:\n",
    "    saver.restore(sess, tf.train.latest_checkpoint('.'))\n",
    "\n",
    "    test_accuracy = evaluate(X_test2, y_test2)\n",
    "    print(\"Test Accuracy = {:.3f}\".format(test_accuracy))\n"
   ]
  },
  {
   "cell_type": "markdown",
   "metadata": {},
   "source": [
    "---\n",
    "\n",
    "## Step 3: Test a Model on New Images\n",
    "\n",
    "To give yourself more insight into how your model is working, download at least five pictures of German traffic signs from the web and use your model to predict the traffic sign type.\n",
    "\n",
    "You may find `signnames.csv` useful as it contains mappings from the class id (integer) to the actual sign name."
   ]
  },
  {
   "cell_type": "markdown",
   "metadata": {},
   "source": [
    "### Load and Output the Images"
   ]
  },
  {
   "cell_type": "code",
   "execution_count": 29,
   "metadata": {
    "collapsed": false
   },
   "outputs": [
    {
     "name": "stdout",
     "output_type": "stream",
     "text": [
      "image shape:(32, 32, 1)\n",
      "image shape:(32, 32, 1)\n",
      "image shape:(32, 32, 1)\n",
      "image shape:(32, 32, 1)\n",
      "image shape:(32, 32, 1)\n"
     ]
    },
    {
     "data": {
      "image/png": "[encoded data removed]",
      "text/plain": [
       "<matplotlib.figure.Figure at 0x7f6a10634898>"
      ]
     },
     "metadata": {},
     "output_type": "display_data"
    },
    {
     "data": {
      "image/png": "[encoded data removed]",
      "text/plain": [
       "<matplotlib.figure.Figure at 0x7f6a3ec1db38>"
      ]
     },
     "metadata": {},
     "output_type": "display_data"
    },
    {
     "data": {
      "image/png": "[encoded data removed]",
      "text/plain": [
       "<matplotlib.figure.Figure at 0x7f69cc4b9208>"
      ]
     },
     "metadata": {},
     "output_type": "display_data"
    },
    {
     "data": {
      "image/png": "[encoded data removed]",
      "text/plain": [
       "<matplotlib.figure.Figure at 0x7f69e6a8dc50>"
      ]
     },
     "metadata": {},
     "output_type": "display_data"
    },
    {
     "data": {
      "image/png": "[encoded data removed]",
      "text/plain": [
       "<matplotlib.figure.Figure at 0x7f69cd4ac048>"
      ]
     },
     "metadata": {},
     "output_type": "display_data"
    }
   ],
   "source": [
    "### Load the images and plot them here.\n",
    "### Feel free to use as many code cells as needed.\n",
    "#test the model\n",
    "import cv2\n",
    "import matplotlib.pyplot as plt\n",
    "# Visualizations will be shown in the notebook.\n",
    "%matplotlib inline\n",
    "import numpy as np\n",
    "\n",
    "#web_img_names = [\"web_img_60.jpg\", \"web_img_bike.jpg\", \"web_img_narrow_right.jpg\", \"web_img_stop.jpg\", \"web_img_traffic_sign.jpg\"]\n",
    "#web_img_labels = [3,29,24,14,26]\n",
    "\n",
    "#web_img_names = [\"data/img_11125_id_9.jpg\", \"data/img_17591_id_10.jpg\", \"data/img_27316_id_28.jpg\", \"data/img_22060_id_13.jpg\", \"data/img_31746_id_2.jpg\", \"data/img_30137_id_15.jpg\", \"data/img_27620_id_12.jpg\", \"data/img_3829_id_1.jpg\",\"data/img_6889_id_4.jpg\",\"data/img_12632_id_5.jpg\"]\n",
    "#web_img_labels = [9,10,28,13,2,15,12,1,4,5]\n",
    "\n",
    "web_img_names = [\"WebImg/children_28.jpg\", \"WebImg/round_about_40.jpg\", \"WebImg/speed_limit_50_2.jpg\", \"WebImg/keep_right_38.jpg\", \"WebImg/speed_30_1.jpg\"]\n",
    "web_img_labels = [28,40,2,38,1]\n",
    "\n",
    "web_imgs = []\n",
    "for img in web_img_names:\n",
    "    image = cv2.imread(img)\n",
    "    #print(\"image shape:{}\".format(image.shape))\n",
    "    gray = cv2.cvtColor(image,cv2.COLOR_RGB2GRAY)\n",
    "    #print(\"gray shape:{}\".format(gray.shape))\n",
    "    plt.figure(figsize=(1,1))\n",
    "    plt.imshow(gray, cmap=\"gray\")\n",
    "    #plt.imshow(image)\n",
    "    web_imgs.append(gray)\n",
    "    \n",
    "web_imgs = np.reshape(web_imgs, (-1,32,32,1))\n",
    "for img in web_imgs:\n",
    "    print(\"image shape:{}\".format(img.shape))"
   ]
  },
  {
   "cell_type": "markdown",
   "metadata": {},
   "source": [
    "### Predict the Sign Type for Each Image"
   ]
  },
  {
   "cell_type": "code",
   "execution_count": 32,
   "metadata": {
    "collapsed": false
   },
   "outputs": [
    {
     "name": "stdout",
     "output_type": "stream",
     "text": [
      "Web Test Accuracy = 0.400\n",
      "[42  0 16  9 25]\n",
      "TopKV2(values=array([[ 0.99227351,  0.98792636,  0.97418064],\n",
      "       [ 0.99994111,  0.99984205,  0.99945921],\n",
      "       [ 0.99796009,  0.99778491,  0.98272783],\n",
      "       [ 0.99999821,  0.99982601,  0.99980217],\n",
      "       [ 0.99972481,  0.9996562 ,  0.99374515]], dtype=float32), indices=array([[42, 32, 40],\n",
      "       [ 0,  4, 18],\n",
      "       [16, 13, 31],\n",
      "       [ 9, 27, 41],\n",
      "       [25, 29, 22]], dtype=int32))\n"
     ]
    }
   ],
   "source": [
    "### Run the predictions here and use the model to output the prediction for each image.\n",
    "### Make sure to pre-process the images with the same pre-processing pipeline used earlier.\n",
    "### Feel free to use as many code cells as needed.\n",
    "logits_web = LeNet(web_imgs.astype(np.float32))\n",
    "temp = tf.nn.softmax(logits_web,dim =0,name = None)\n",
    "pred = tf.argmax(temp, 1)\n",
    "with tf.Session() as sess:\n",
    "    sess.run(tf.global_variables_initializer())\n",
    "    saver.restore(sess, tf.train.latest_checkpoint('.'))\n",
    "    test_accuracy = evaluate(web_imgs, web_img_labels)\n",
    "    print(\"Web Test Accuracy = {:.3f}\".format(test_accuracy))\n",
    "    print(sess.run(pred))\n",
    "    a = sess.run(temp)\n",
    "    print(sess.run(tf.nn.top_k(tf.constant(a), k=3)))\n",
    "    "
   ]
  },
  {
   "cell_type": "markdown",
   "metadata": {},
   "source": [
    "### Analyze Performance"
   ]
  },
  {
   "cell_type": "code",
   "execution_count": 9,
   "metadata": {
    "collapsed": true
   },
   "outputs": [],
   "source": [
    "### Calculate the accuracy for these 5 new images. \n",
    "### For example, if the model predicted 1 out of 5 signs correctly, it's 20% accurate on these new images."
   ]
  },
  {
   "cell_type": "markdown",
   "metadata": {},
   "source": [
    "### Output Top 5 Softmax Probabilities For Each Image Found on the Web"
   ]
  },
  {
   "cell_type": "markdown",
   "metadata": {},
   "source": [
    "For each of the new images, print out the model's softmax probabilities to show the **certainty** of the model's predictions (limit the output to the top 5 probabilities for each image). [`tf.nn.top_k`](https://www.tensorflow.org/versions/r0.12/api_docs/python/nn.html#top_k) could prove helpful here. \n",
    "\n",
    "The example below demonstrates how tf.nn.top_k can be used to find the top k predictions for each image.\n",
    "\n",
    "`tf.nn.top_k` will return the values and indices (class ids) of the top k predictions. So if k=3, for each sign, it'll return the 3 largest probabilities (out of a possible 43) and the correspoding class ids.\n",
    "\n",
    "Take this numpy array as an example. The values in the array represent predictions. The array contains softmax probabilities for five candidate images with six possible classes. `tk.nn.top_k` is used to choose the three classes with the highest probability:\n",
    "\n",
    "```\n",
    "# (5, 6) array\n",
    "a = np.array([[ 0.24879643,  0.07032244,  0.12641572,  0.34763842,  0.07893497,\n",
    "         0.12789202],\n",
    "       [ 0.28086119,  0.27569815,  0.08594638,  0.0178669 ,  0.18063401,\n",
    "         0.15899337],\n",
    "       [ 0.26076848,  0.23664738,  0.08020603,  0.07001922,  0.1134371 ,\n",
    "         0.23892179],\n",
    "       [ 0.11943333,  0.29198961,  0.02605103,  0.26234032,  0.1351348 ,\n",
    "         0.16505091],\n",
    "       [ 0.09561176,  0.34396535,  0.0643941 ,  0.16240774,  0.24206137,\n",
    "         0.09155967]])\n",
    "```\n",
    "\n",
    "Running it through `sess.run(tf.nn.top_k(tf.constant(a), k=3))` produces:\n",
    "\n",
    "```\n",
    "TopKV2(values=array([[ 0.34763842,  0.24879643,  0.12789202],\n",
    "       [ 0.28086119,  0.27569815,  0.18063401],\n",
    "       [ 0.26076848,  0.23892179,  0.23664738],\n",
    "       [ 0.29198961,  0.26234032,  0.16505091],\n",
    "       [ 0.34396535,  0.24206137,  0.16240774]]), indices=array([[3, 0, 5],\n",
    "       [0, 1, 4],\n",
    "       [0, 5, 1],\n",
    "       [1, 3, 5],\n",
    "       [1, 4, 3]], dtype=int32))\n",
    "```\n",
    "\n",
    "Looking just at the first row we get `[ 0.34763842,  0.24879643,  0.12789202]`, you can confirm these are the 3 largest probabilities in `a`. You'll also notice `[3, 0, 5]` are the corresponding indices."
   ]
  },
  {
   "cell_type": "code",
   "execution_count": 31,
   "metadata": {
    "collapsed": false
   },
   "outputs": [
    {
     "name": "stdout",
     "output_type": "stream",
     "text": [
      "TopKV2(values=array([[ 0.99978799,  0.95536619,  0.93598831],\n",
      "       [ 0.99993455,  0.99910045,  0.9988398 ],\n",
      "       [ 0.99998975,  0.99934453,  0.97268468],\n",
      "       [ 0.91997361,  0.81858903,  0.74758649],\n",
      "       [ 0.99293053,  0.98793995,  0.97942263]], dtype=float32), indices=array([[14, 20, 11],\n",
      "       [ 3,  1,  2],\n",
      "       [ 4, 31, 19],\n",
      "       [ 8, 26, 38],\n",
      "       [28, 42, 41]], dtype=int32))\n"
     ]
    }
   ],
   "source": [
    "### Print out the top five softmax probabilities for the predictions on the German traffic sign images found on the web. \n",
    "### Feel free to use as many code cells as needed.\n",
    "with tf.Session() as sess:\n",
    "    sess.run(tf.global_variables_initializer())\n",
    "    #a = np.array(temp)\n",
    "    a = sess.run(temp)\n",
    "    print(sess.run(tf.nn.top_k(tf.constant(a), k=3)))\n",
    "    "
   ]
  },
  {
   "cell_type": "markdown",
   "metadata": {},
   "source": [
    "---\n",
    "\n",
    "## Step 4: Visualize the Neural Network's State with Test Images\n",
    "\n",
    " This Section is not required to complete but acts as an additional excersise for understaning the output of a neural network's weights. While neural networks can be a great learning device they are often referred to as a black box. We can understand what the weights of a neural network look like better by plotting their feature maps. After successfully training your neural network you can see what it's feature maps look like by plotting the output of the network's weight layers in response to a test stimuli image. From these plotted feature maps, it's possible to see what characteristics of an image the network finds interesting. For a sign, maybe the inner network feature maps react with high activation to the sign's boundary outline or to the contrast in the sign's painted symbol.\n",
    "\n",
    " Provided for you below is the function code that allows you to get the visualization output of any tensorflow weight layer you want. The inputs to the function should be a stimuli image, one used during training or a new one you provided, and then the tensorflow variable name that represents the layer's state during the training process, for instance if you wanted to see what the [LeNet lab's](https://classroom.udacity.com/nanodegrees/nd013/parts/fbf77062-5703-404e-b60c-95b78b2f3f9e/modules/6df7ae49-c61c-4bb2-a23e-6527e69209ec/lessons/601ae704-1035-4287-8b11-e2c2716217ad/concepts/d4aca031-508f-4e0b-b493-e7b706120f81) feature maps looked like for it's second convolutional layer you could enter conv2 as the tf_activation variable.\n",
    "\n",
    "For an example of what feature map outputs look like, check out NVIDIA's results in their paper [End-to-End Deep Learning for Self-Driving Cars](https://devblogs.nvidia.com/parallelforall/deep-learning-self-driving-cars/) in the section Visualization of internal CNN State. NVIDIA was able to show that their network's inner weights had high activations to road boundary lines by comparing feature maps from an image with a clear path to one without. Try experimenting with a similar test to show that your trained network's weights are looking for interesting features, whether it's looking at differences in feature maps from images with or without a sign, or even what feature maps look like in a trained network vs a completely untrained one on the same sign image.\n",
    "\n",
    "<figure>\n",
    " <img src=\"visualize_cnn.png\" width=\"380\" alt=\"Combined Image\" />\n",
    " <figcaption>\n",
    " <p></p> \n",
    " <p style=\"text-align: center;\"> Your output should look something like this (above)</p> \n",
    " </figcaption>\n",
    "</figure>\n",
    " <p></p> \n"
   ]
  },
  {
   "cell_type": "code",
   "execution_count": 11,
   "metadata": {
    "collapsed": true
   },
   "outputs": [],
   "source": [
    "### Visualize your network's feature maps here.\n",
    "### Feel free to use as many code cells as needed.\n",
    "\n",
    "# image_input: the test image being fed into the network to produce the feature maps\n",
    "# tf_activation: should be a tf variable name used during your training procedure that represents the calculated state of a specific weight layer\n",
    "# activation_min/max: can be used to view the activation contrast in more detail, by default matplot sets min and max to the actual min and max values of the output\n",
    "# plt_num: used to plot out multiple different weight feature map sets on the same block, just extend the plt number for each new feature map entry\n",
    "\n",
    "def outputFeatureMap(image_input, tf_activation, activation_min=-1, activation_max=-1 ,plt_num=1):\n",
    "    # Here make sure to preprocess your image_input in a way your network expects\n",
    "    # with size, normalization, ect if needed\n",
    "    # image_input =\n",
    "    # Note: x should be the same name as your network's tensorflow data placeholder variable\n",
    "    # If you get an error tf_activation is not defined it maybe having trouble accessing the variable from inside a function\n",
    "    activation = tf_activation.eval(session=sess,feed_dict={x : image_input})\n",
    "    featuremaps = activation.shape[3]\n",
    "    plt.figure(plt_num, figsize=(15,15))\n",
    "    for featuremap in range(featuremaps):\n",
    "        plt.subplot(6,8, featuremap+1) # sets the number of feature maps to show on each row and column\n",
    "        plt.title('FeatureMap ' + str(featuremap)) # displays the feature map number\n",
    "        if activation_min != -1 & activation_max != -1:\n",
    "            plt.imshow(activation[0,:,:, featuremap], interpolation=\"nearest\", vmin =activation_min, vmax=activation_max, cmap=\"gray\")\n",
    "        elif activation_max != -1:\n",
    "            plt.imshow(activation[0,:,:, featuremap], interpolation=\"nearest\", vmax=activation_max, cmap=\"gray\")\n",
    "        elif activation_min !=-1:\n",
    "            plt.imshow(activation[0,:,:, featuremap], interpolation=\"nearest\", vmin=activation_min, cmap=\"gray\")\n",
    "        else:\n",
    "            plt.imshow(activation[0,:,:, featuremap], interpolation=\"nearest\", cmap=\"gray\")"
   ]
  },
  {
   "cell_type": "markdown",
   "metadata": {},
   "source": [
    "### Question 9\n",
    "\n",
    "Discuss how you used the visual output of your trained network's feature maps to show that it had learned to look for interesting characteristics in traffic sign images\n"
   ]
  },
  {
   "cell_type": "markdown",
   "metadata": {},
   "source": [
    "**Answer:**"
   ]
  },
  {
   "cell_type": "markdown",
   "metadata": {},
   "source": [
    "> **Note**: Once you have completed all of the code implementations and successfully answered each question above, you may finalize your work by exporting the iPython Notebook as an HTML document. You can do this by using the menu above and navigating to  \\n\",\n",
    "    \"**File -> Download as -> HTML (.html)**. Include the finished document along with this notebook as your submission."
   ]
  },
  {
   "cell_type": "markdown",
   "metadata": {},
   "source": [
    "### Project Writeup\n",
    "\n",
    "Once you have completed the code implementation, document your results in a project writeup using this [template](https://github.com/udacity/CarND-Traffic-Sign-Classifier-Project/blob/master/writeup_template.md) as a guide. The writeup can be in a markdown or pdf file. "
   ]
  }
 ],
 "metadata": {
  "anaconda-cloud": {},
  "kernelspec": {
   "display_name": "Python 3",
   "language": "python",
   "name": "python3"
  },
  "language_info": {
   "codemirror_mode": {
    "name": "ipython",
    "version": 3
   },
   "file_extension": ".py",
   "mimetype": "text/x-python",
   "name": "python",
   "nbconvert_exporter": "python",
   "pygments_lexer": "ipython3",
   "version": "3.5.2"
  },
  "widgets": {
   "state": {},
   "version": "1.1.2"
  }
 },
 "nbformat": 4,
 "nbformat_minor": 1
}
